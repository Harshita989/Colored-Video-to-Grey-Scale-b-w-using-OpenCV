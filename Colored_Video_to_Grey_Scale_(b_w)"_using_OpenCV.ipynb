{
  "nbformat": 4,
  "nbformat_minor": 0,
  "metadata": {
    "colab": {
      "provenance": [],
      "authorship_tag": "ABX9TyMSKm9R74UjvDYyckqcy/Wu",
      "include_colab_link": true
    },
    "kernelspec": {
      "name": "python3",
      "display_name": "Python 3"
    },
    "language_info": {
      "name": "python"
    }
  },
  "cells": [
    {
      "cell_type": "markdown",
      "metadata": {
        "id": "view-in-github",
        "colab_type": "text"
      },
      "source": [
        "<a href=\"https://colab.research.google.com/github/Harshita989/Colored-Video-to-Grey-Scale-b-w-using-OpenCV/blob/main/Colored_Video_to_Grey_Scale_(b_w)%22_using_OpenCV.ipynb\" target=\"_parent\"><img src=\"https://colab.research.google.com/assets/colab-badge.svg\" alt=\"Open In Colab\"/></a>"
      ]
    },
    {
      "cell_type": "code",
      "execution_count": 2,
      "metadata": {
        "colab": {
          "base_uri": "https://localhost:8080/"
        },
        "id": "cWElYToK0U_5",
        "outputId": "048ecb07-592f-483f-dc88-fb7ccac6b7b9"
      },
      "outputs": [
        {
          "output_type": "stream",
          "name": "stdout",
          "text": [
            "Video conversion complete.\n"
          ]
        }
      ],
      "source": [
        "import cv2\n",
        "\n",
        "# Open the input video\n",
        "input_video = cv2.VideoCapture(\"/content/test.mp4\")\n",
        "\n",
        "# Get the video properties\n",
        "width = int(input_video.get(cv2.CAP_PROP_FRAME_WIDTH))\n",
        "height = int(input_video.get(cv2.CAP_PROP_FRAME_HEIGHT))\n",
        "fps = input_video.get(cv2.CAP_PROP_FPS)\n",
        "\n",
        "# Create a VideoWriter object to save the grayscale video\n",
        "fourcc = cv2.VideoWriter_fourcc(*'mp4v')\n",
        "output_video = cv2.VideoWriter(\"/content/grayscale_video.mp4\", fourcc, fps, (width, height), isColor=False)\n",
        "\n",
        "# Process each frame of the video\n",
        "while True:\n",
        "    ret, frame = input_video.read()\n",
        "\n",
        "    if not ret:\n",
        "        break\n",
        "\n",
        "    # Convert the frame to grayscale\n",
        "    gray_frame = cv2.cvtColor(frame, cv2.COLOR_BGR2GRAY)\n",
        "\n",
        "    # Write the grayscale frame to the output video\n",
        "    output_video.write(gray_frame)\n",
        "\n",
        "# Release the video capture and writer objects\n",
        "input_video.release()\n",
        "output_video.release()\n",
        "\n",
        "print(\"Video conversion complete.\")"
      ]
    }
  ]
}